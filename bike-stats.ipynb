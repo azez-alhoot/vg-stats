{
 "metadata": {
  "language_info": {
   "codemirror_mode": {
    "name": "ipython",
    "version": 3
   },
   "file_extension": ".py",
   "mimetype": "text/x-python",
   "name": "python",
   "nbconvert_exporter": "python",
   "pygments_lexer": "ipython3",
   "version": "3.8.5-final"
  },
  "orig_nbformat": 2,
  "kernelspec": {
   "name": "python_defaultSpec_1599237007873",
   "display_name": "Python 3.8.5 64-bit ('.venv': venv)"
  }
 },
 "nbformat": 4,
 "nbformat_minor": 2,
 "cells": [
  {
   "cell_type": "markdown",
   "metadata": {},
   "source": [
    "# bike-stats"
   ]
  },
  {
   "cell_type": "code",
   "execution_count": 6,
   "metadata": {},
   "outputs": [],
   "source": [
    "import pandas as pd\n",
    "import numpy as np\n",
    "import datetime  as date"
   ]
  },
  {
   "cell_type": "code",
   "execution_count": 7,
   "metadata": {
    "tags": []
   },
   "outputs": [
    {
     "output_type": "stream",
     "name": "stderr",
     "text": "b'Skipping line 50794: expected 12 fields, saw 20\\n'\n"
    },
    {
     "output_type": "execute_result",
     "data": {
      "text/plain": "   trip_id         starttime          stoptime    bikeid  tripduration  \\\n0      431  10/13/2014 10:31  10/13/2014 10:48  SEA00298       985.935   \n1      432  10/13/2014 10:32  10/13/2014 10:48  SEA00195       926.375   \n2      433  10/13/2014 10:33  10/13/2014 10:48  SEA00486       883.831   \n3      434  10/13/2014 10:34  10/13/2014 10:48  SEA00333       865.937   \n4      435  10/13/2014 10:34  10/13/2014 10:49  SEA00202       923.923   \n5      436  10/13/2014 10:34  10/13/2014 10:47  SEA00337       808.805   \n6      437  10/13/2014 11:35  10/13/2014 11:45  SEA00202       596.715   \n7      438  10/13/2014 11:35  10/13/2014 11:45  SEA00311       592.131   \n8      439  10/13/2014 11:35  10/13/2014 11:45  SEA00486       586.347   \n9      440  10/13/2014 11:35  10/13/2014 11:45  SEA00434       587.634   \n\n                                   from_station_name  \\\n0                                2nd Ave & Spring St   \n1                                2nd Ave & Spring St   \n2                                2nd Ave & Spring St   \n3                                2nd Ave & Spring St   \n4                                2nd Ave & Spring St   \n5                                2nd Ave & Spring St   \n6  Occidental Park / Occidental Ave S & S Washing...   \n7  Occidental Park / Occidental Ave S & S Washing...   \n8  Occidental Park / Occidental Ave S & S Washing...   \n9  Occidental Park / Occidental Ave S & S Washing...   \n\n                                     to_station_name from_station_id  \\\n0  Occidental Park / Occidental Ave S & S Washing...          CBD-06   \n1  Occidental Park / Occidental Ave S & S Washing...          CBD-06   \n2  Occidental Park / Occidental Ave S & S Washing...          CBD-06   \n3  Occidental Park / Occidental Ave S & S Washing...          CBD-06   \n4  Occidental Park / Occidental Ave S & S Washing...          CBD-06   \n5  Occidental Park / Occidental Ave S & S Washing...          CBD-06   \n6  King Street Station Plaza / 2nd Ave Extension ...           PS-04   \n7  King Street Station Plaza / 2nd Ave Extension ...           PS-04   \n8  King Street Station Plaza / 2nd Ave Extension ...           PS-04   \n9  King Street Station Plaza / 2nd Ave Extension ...           PS-04   \n\n  to_station_id usertype  gender  birthyear  \n0         PS-04   Member    Male     1960.0  \n1         PS-04   Member    Male     1970.0  \n2         PS-04   Member  Female     1988.0  \n3         PS-04   Member  Female     1977.0  \n4         PS-04   Member    Male     1971.0  \n5         PS-04   Member    Male     1974.0  \n6         PS-05   Member    Male     1978.0  \n7         PS-05   Member    Male     1983.0  \n8         PS-05   Member  Female     1974.0  \n9         PS-05   Member    Male     1958.0  ",
      "text/html": "<div>\n<style scoped>\n    .dataframe tbody tr th:only-of-type {\n        vertical-align: middle;\n    }\n\n    .dataframe tbody tr th {\n        vertical-align: top;\n    }\n\n    .dataframe thead th {\n        text-align: right;\n    }\n</style>\n<table border=\"1\" class=\"dataframe\">\n  <thead>\n    <tr style=\"text-align: right;\">\n      <th></th>\n      <th>trip_id</th>\n      <th>starttime</th>\n      <th>stoptime</th>\n      <th>bikeid</th>\n      <th>tripduration</th>\n      <th>from_station_name</th>\n      <th>to_station_name</th>\n      <th>from_station_id</th>\n      <th>to_station_id</th>\n      <th>usertype</th>\n      <th>gender</th>\n      <th>birthyear</th>\n    </tr>\n  </thead>\n  <tbody>\n    <tr>\n      <th>0</th>\n      <td>431</td>\n      <td>10/13/2014 10:31</td>\n      <td>10/13/2014 10:48</td>\n      <td>SEA00298</td>\n      <td>985.935</td>\n      <td>2nd Ave &amp; Spring St</td>\n      <td>Occidental Park / Occidental Ave S &amp; S Washing...</td>\n      <td>CBD-06</td>\n      <td>PS-04</td>\n      <td>Member</td>\n      <td>Male</td>\n      <td>1960.0</td>\n    </tr>\n    <tr>\n      <th>1</th>\n      <td>432</td>\n      <td>10/13/2014 10:32</td>\n      <td>10/13/2014 10:48</td>\n      <td>SEA00195</td>\n      <td>926.375</td>\n      <td>2nd Ave &amp; Spring St</td>\n      <td>Occidental Park / Occidental Ave S &amp; S Washing...</td>\n      <td>CBD-06</td>\n      <td>PS-04</td>\n      <td>Member</td>\n      <td>Male</td>\n      <td>1970.0</td>\n    </tr>\n    <tr>\n      <th>2</th>\n      <td>433</td>\n      <td>10/13/2014 10:33</td>\n      <td>10/13/2014 10:48</td>\n      <td>SEA00486</td>\n      <td>883.831</td>\n      <td>2nd Ave &amp; Spring St</td>\n      <td>Occidental Park / Occidental Ave S &amp; S Washing...</td>\n      <td>CBD-06</td>\n      <td>PS-04</td>\n      <td>Member</td>\n      <td>Female</td>\n      <td>1988.0</td>\n    </tr>\n    <tr>\n      <th>3</th>\n      <td>434</td>\n      <td>10/13/2014 10:34</td>\n      <td>10/13/2014 10:48</td>\n      <td>SEA00333</td>\n      <td>865.937</td>\n      <td>2nd Ave &amp; Spring St</td>\n      <td>Occidental Park / Occidental Ave S &amp; S Washing...</td>\n      <td>CBD-06</td>\n      <td>PS-04</td>\n      <td>Member</td>\n      <td>Female</td>\n      <td>1977.0</td>\n    </tr>\n    <tr>\n      <th>4</th>\n      <td>435</td>\n      <td>10/13/2014 10:34</td>\n      <td>10/13/2014 10:49</td>\n      <td>SEA00202</td>\n      <td>923.923</td>\n      <td>2nd Ave &amp; Spring St</td>\n      <td>Occidental Park / Occidental Ave S &amp; S Washing...</td>\n      <td>CBD-06</td>\n      <td>PS-04</td>\n      <td>Member</td>\n      <td>Male</td>\n      <td>1971.0</td>\n    </tr>\n    <tr>\n      <th>5</th>\n      <td>436</td>\n      <td>10/13/2014 10:34</td>\n      <td>10/13/2014 10:47</td>\n      <td>SEA00337</td>\n      <td>808.805</td>\n      <td>2nd Ave &amp; Spring St</td>\n      <td>Occidental Park / Occidental Ave S &amp; S Washing...</td>\n      <td>CBD-06</td>\n      <td>PS-04</td>\n      <td>Member</td>\n      <td>Male</td>\n      <td>1974.0</td>\n    </tr>\n    <tr>\n      <th>6</th>\n      <td>437</td>\n      <td>10/13/2014 11:35</td>\n      <td>10/13/2014 11:45</td>\n      <td>SEA00202</td>\n      <td>596.715</td>\n      <td>Occidental Park / Occidental Ave S &amp; S Washing...</td>\n      <td>King Street Station Plaza / 2nd Ave Extension ...</td>\n      <td>PS-04</td>\n      <td>PS-05</td>\n      <td>Member</td>\n      <td>Male</td>\n      <td>1978.0</td>\n    </tr>\n    <tr>\n      <th>7</th>\n      <td>438</td>\n      <td>10/13/2014 11:35</td>\n      <td>10/13/2014 11:45</td>\n      <td>SEA00311</td>\n      <td>592.131</td>\n      <td>Occidental Park / Occidental Ave S &amp; S Washing...</td>\n      <td>King Street Station Plaza / 2nd Ave Extension ...</td>\n      <td>PS-04</td>\n      <td>PS-05</td>\n      <td>Member</td>\n      <td>Male</td>\n      <td>1983.0</td>\n    </tr>\n    <tr>\n      <th>8</th>\n      <td>439</td>\n      <td>10/13/2014 11:35</td>\n      <td>10/13/2014 11:45</td>\n      <td>SEA00486</td>\n      <td>586.347</td>\n      <td>Occidental Park / Occidental Ave S &amp; S Washing...</td>\n      <td>King Street Station Plaza / 2nd Ave Extension ...</td>\n      <td>PS-04</td>\n      <td>PS-05</td>\n      <td>Member</td>\n      <td>Female</td>\n      <td>1974.0</td>\n    </tr>\n    <tr>\n      <th>9</th>\n      <td>440</td>\n      <td>10/13/2014 11:35</td>\n      <td>10/13/2014 11:45</td>\n      <td>SEA00434</td>\n      <td>587.634</td>\n      <td>Occidental Park / Occidental Ave S &amp; S Washing...</td>\n      <td>King Street Station Plaza / 2nd Ave Extension ...</td>\n      <td>PS-04</td>\n      <td>PS-05</td>\n      <td>Member</td>\n      <td>Male</td>\n      <td>1958.0</td>\n    </tr>\n  </tbody>\n</table>\n</div>"
     },
     "metadata": {},
     "execution_count": 7
    }
   ],
   "source": [
    "trip_df = pd.read_csv('trip.csv', error_bad_lines=False)\n",
    "trip_df.head(10)"
   ]
  },
  {
   "cell_type": "markdown",
   "metadata": {},
   "source": [
    "#### the average trip duration for a borrowed bicycle"
   ]
  },
  {
   "cell_type": "code",
   "execution_count": 8,
   "metadata": {},
   "outputs": [
    {
     "output_type": "execute_result",
     "data": {
      "text/plain": "1178.2956753399776"
     },
     "metadata": {},
     "execution_count": 8
    }
   ],
   "source": [
    "avg = trip_df['tripduration'].mean()\n",
    "avg"
   ]
  },
  {
   "cell_type": "markdown",
   "metadata": {},
   "source": [
    "### the most common age of a bicycle-sharer"
   ]
  },
  {
   "cell_type": "code",
   "execution_count": 9,
   "metadata": {},
   "outputs": [
    {
     "output_type": "execute_result",
     "data": {
      "text/plain": "33"
     },
     "metadata": {},
     "execution_count": 9
    }
   ],
   "source": [
    "birth_date = trip_df['birthyear'].value_counts().idxmax()\n",
    "int_birth = birth_date.astype(int)\n",
    "age = (pd.to_datetime('today').year-pd.to_datetime(int_birth.astype(str)).year)\n",
    "age\n",
    "\n"
   ]
  },
  {
   "cell_type": "code",
   "execution_count": 10,
   "metadata": {},
   "outputs": [
    {
     "output_type": "execute_result",
     "data": {
      "text/plain": "         Date  Max_Temperature_F  Mean_Temperature_F  Min_TemperatureF  \\\n0  10/13/2014                 71                62.0                54   \n1  10/14/2014                 63                59.0                55   \n2  10/15/2014                 62                58.0                54   \n3  10/16/2014                 71                61.0                52   \n4  10/17/2014                 64                60.0                57   \n5  10/18/2014                 68                64.0                59   \n6  10/19/2014                 73                64.0                55   \n7  10/20/2014                 66                60.0                55   \n8  10/21/2014                 64                58.0                55   \n9  10/22/2014                 60                58.0                57   \n\n   Max_Dew_Point_F  MeanDew_Point_F  Min_Dewpoint_F  Max_Humidity  \\\n0               55               51              46            87   \n1               52               51              50            88   \n2               53               50              46            87   \n3               49               46              42            83   \n4               55               51              41            87   \n5               59               57              55            90   \n6               57               55              53            94   \n7               57               54              50            90   \n8               52               49              46            87   \n9               55               53              48            88   \n\n   Mean_Humidity  Min_Humidity  ...  Mean_Sea_Level_Pressure_In  \\\n0             68            46  ...                       29.79   \n1             78            63  ...                       29.75   \n2             77            67  ...                       29.71   \n3             61            36  ...                       29.95   \n4             72            46  ...                       29.78   \n5             83            68  ...                       29.90   \n6             74            52  ...                       29.73   \n7             78            67  ...                       29.74   \n8             70            58  ...                       29.85   \n9             81            67  ...                       29.68   \n\n   Min_Sea_Level_Pressure_In  Max_Visibility_Miles  Mean_Visibility_Miles  \\\n0                      29.65                    10                     10   \n1                      29.54                    10                      9   \n2                      29.51                    10                      9   \n3                      29.81                    10                     10   \n4                      29.73                    10                     10   \n5                      29.80                    10                      8   \n6                      29.67                    10                     10   \n7                      29.69                    10                     10   \n8                      29.74                    10                     10   \n9                      29.56                    10                      6   \n\n   Min_Visibility_Miles  Max_Wind_Speed_MPH  Mean_Wind_Speed_MPH  \\\n0                     4                  13                    4   \n1                     3                  10                    5   \n2                     3                  18                    7   \n3                    10                   9                    4   \n4                     6                   8                    3   \n5                     2                  10                    4   \n6                     6                  10                    3   \n7                     5                  12                    5   \n8                     6                  15                    8   \n9                     2                  14                    8   \n\n   Max_Gust_Speed_MPH Precipitation_In  Events  \n0                  21             0.00    Rain  \n1                  17             0.11    Rain  \n2                  25             0.45    Rain  \n3                   -             0.00    Rain  \n4                   -             0.14    Rain  \n5                   -             0.31    Rain  \n6                  18             0.00     NaN  \n7                   -             0.44    Rain  \n8                  21             0.10    Rain  \n9                  22             1.43    Rain  \n\n[10 rows x 21 columns]",
      "text/html": "<div>\n<style scoped>\n    .dataframe tbody tr th:only-of-type {\n        vertical-align: middle;\n    }\n\n    .dataframe tbody tr th {\n        vertical-align: top;\n    }\n\n    .dataframe thead th {\n        text-align: right;\n    }\n</style>\n<table border=\"1\" class=\"dataframe\">\n  <thead>\n    <tr style=\"text-align: right;\">\n      <th></th>\n      <th>Date</th>\n      <th>Max_Temperature_F</th>\n      <th>Mean_Temperature_F</th>\n      <th>Min_TemperatureF</th>\n      <th>Max_Dew_Point_F</th>\n      <th>MeanDew_Point_F</th>\n      <th>Min_Dewpoint_F</th>\n      <th>Max_Humidity</th>\n      <th>Mean_Humidity</th>\n      <th>Min_Humidity</th>\n      <th>...</th>\n      <th>Mean_Sea_Level_Pressure_In</th>\n      <th>Min_Sea_Level_Pressure_In</th>\n      <th>Max_Visibility_Miles</th>\n      <th>Mean_Visibility_Miles</th>\n      <th>Min_Visibility_Miles</th>\n      <th>Max_Wind_Speed_MPH</th>\n      <th>Mean_Wind_Speed_MPH</th>\n      <th>Max_Gust_Speed_MPH</th>\n      <th>Precipitation_In</th>\n      <th>Events</th>\n    </tr>\n  </thead>\n  <tbody>\n    <tr>\n      <th>0</th>\n      <td>10/13/2014</td>\n      <td>71</td>\n      <td>62.0</td>\n      <td>54</td>\n      <td>55</td>\n      <td>51</td>\n      <td>46</td>\n      <td>87</td>\n      <td>68</td>\n      <td>46</td>\n      <td>...</td>\n      <td>29.79</td>\n      <td>29.65</td>\n      <td>10</td>\n      <td>10</td>\n      <td>4</td>\n      <td>13</td>\n      <td>4</td>\n      <td>21</td>\n      <td>0.00</td>\n      <td>Rain</td>\n    </tr>\n    <tr>\n      <th>1</th>\n      <td>10/14/2014</td>\n      <td>63</td>\n      <td>59.0</td>\n      <td>55</td>\n      <td>52</td>\n      <td>51</td>\n      <td>50</td>\n      <td>88</td>\n      <td>78</td>\n      <td>63</td>\n      <td>...</td>\n      <td>29.75</td>\n      <td>29.54</td>\n      <td>10</td>\n      <td>9</td>\n      <td>3</td>\n      <td>10</td>\n      <td>5</td>\n      <td>17</td>\n      <td>0.11</td>\n      <td>Rain</td>\n    </tr>\n    <tr>\n      <th>2</th>\n      <td>10/15/2014</td>\n      <td>62</td>\n      <td>58.0</td>\n      <td>54</td>\n      <td>53</td>\n      <td>50</td>\n      <td>46</td>\n      <td>87</td>\n      <td>77</td>\n      <td>67</td>\n      <td>...</td>\n      <td>29.71</td>\n      <td>29.51</td>\n      <td>10</td>\n      <td>9</td>\n      <td>3</td>\n      <td>18</td>\n      <td>7</td>\n      <td>25</td>\n      <td>0.45</td>\n      <td>Rain</td>\n    </tr>\n    <tr>\n      <th>3</th>\n      <td>10/16/2014</td>\n      <td>71</td>\n      <td>61.0</td>\n      <td>52</td>\n      <td>49</td>\n      <td>46</td>\n      <td>42</td>\n      <td>83</td>\n      <td>61</td>\n      <td>36</td>\n      <td>...</td>\n      <td>29.95</td>\n      <td>29.81</td>\n      <td>10</td>\n      <td>10</td>\n      <td>10</td>\n      <td>9</td>\n      <td>4</td>\n      <td>-</td>\n      <td>0.00</td>\n      <td>Rain</td>\n    </tr>\n    <tr>\n      <th>4</th>\n      <td>10/17/2014</td>\n      <td>64</td>\n      <td>60.0</td>\n      <td>57</td>\n      <td>55</td>\n      <td>51</td>\n      <td>41</td>\n      <td>87</td>\n      <td>72</td>\n      <td>46</td>\n      <td>...</td>\n      <td>29.78</td>\n      <td>29.73</td>\n      <td>10</td>\n      <td>10</td>\n      <td>6</td>\n      <td>8</td>\n      <td>3</td>\n      <td>-</td>\n      <td>0.14</td>\n      <td>Rain</td>\n    </tr>\n    <tr>\n      <th>5</th>\n      <td>10/18/2014</td>\n      <td>68</td>\n      <td>64.0</td>\n      <td>59</td>\n      <td>59</td>\n      <td>57</td>\n      <td>55</td>\n      <td>90</td>\n      <td>83</td>\n      <td>68</td>\n      <td>...</td>\n      <td>29.90</td>\n      <td>29.80</td>\n      <td>10</td>\n      <td>8</td>\n      <td>2</td>\n      <td>10</td>\n      <td>4</td>\n      <td>-</td>\n      <td>0.31</td>\n      <td>Rain</td>\n    </tr>\n    <tr>\n      <th>6</th>\n      <td>10/19/2014</td>\n      <td>73</td>\n      <td>64.0</td>\n      <td>55</td>\n      <td>57</td>\n      <td>55</td>\n      <td>53</td>\n      <td>94</td>\n      <td>74</td>\n      <td>52</td>\n      <td>...</td>\n      <td>29.73</td>\n      <td>29.67</td>\n      <td>10</td>\n      <td>10</td>\n      <td>6</td>\n      <td>10</td>\n      <td>3</td>\n      <td>18</td>\n      <td>0.00</td>\n      <td>NaN</td>\n    </tr>\n    <tr>\n      <th>7</th>\n      <td>10/20/2014</td>\n      <td>66</td>\n      <td>60.0</td>\n      <td>55</td>\n      <td>57</td>\n      <td>54</td>\n      <td>50</td>\n      <td>90</td>\n      <td>78</td>\n      <td>67</td>\n      <td>...</td>\n      <td>29.74</td>\n      <td>29.69</td>\n      <td>10</td>\n      <td>10</td>\n      <td>5</td>\n      <td>12</td>\n      <td>5</td>\n      <td>-</td>\n      <td>0.44</td>\n      <td>Rain</td>\n    </tr>\n    <tr>\n      <th>8</th>\n      <td>10/21/2014</td>\n      <td>64</td>\n      <td>58.0</td>\n      <td>55</td>\n      <td>52</td>\n      <td>49</td>\n      <td>46</td>\n      <td>87</td>\n      <td>70</td>\n      <td>58</td>\n      <td>...</td>\n      <td>29.85</td>\n      <td>29.74</td>\n      <td>10</td>\n      <td>10</td>\n      <td>6</td>\n      <td>15</td>\n      <td>8</td>\n      <td>21</td>\n      <td>0.10</td>\n      <td>Rain</td>\n    </tr>\n    <tr>\n      <th>9</th>\n      <td>10/22/2014</td>\n      <td>60</td>\n      <td>58.0</td>\n      <td>57</td>\n      <td>55</td>\n      <td>53</td>\n      <td>48</td>\n      <td>88</td>\n      <td>81</td>\n      <td>67</td>\n      <td>...</td>\n      <td>29.68</td>\n      <td>29.56</td>\n      <td>10</td>\n      <td>6</td>\n      <td>2</td>\n      <td>14</td>\n      <td>8</td>\n      <td>22</td>\n      <td>1.43</td>\n      <td>Rain</td>\n    </tr>\n  </tbody>\n</table>\n<p>10 rows × 21 columns</p>\n</div>"
     },
     "metadata": {},
     "execution_count": 10
    }
   ],
   "source": [
    "weather_df = pd.read_csv('datasets_336_799969_weather.csv')\n",
    "weather_df.head(10)"
   ]
  },
  {
   "cell_type": "markdown",
   "metadata": {},
   "source": [
    "###  the average precipitation per month, and the median precipitation"
   ]
  },
  {
   "cell_type": "code",
   "execution_count": 11,
   "metadata": {
    "tags": []
   },
   "outputs": [
    {
     "output_type": "stream",
     "name": "stdout",
     "text": "Month  Precipitation_In\nMonth                         \n1          1          0.143548\n2          2          0.168421\n3          3          0.156935\n4          4          0.051333\n5          5          0.012419\n6          6          0.030500\n7          7          0.012097\n8          8          0.018226\n9          9          0.041000\n10        10          0.189000\n11        11          0.187833\n12        12          0.236290\n       Month  Precipitation_In\nMonth                         \n1          1             0.020\n2          2             0.040\n3          3             0.025\n4          4             0.000\n5          5             0.000\n6          6             0.000\n7          7             0.000\n8          8             0.000\n9          9             0.000\n10        10             0.040\n11        11             0.035\n12        12             0.100\n"
    }
   ],
   "source": [
    "weather_df['Date'] = pd.to_datetime(weather_df['Date'])\n",
    "weather_df['Month'] = weather_df['Date'].dt.month\n",
    "avg = (weather_df[['Month','Precipitation_In']]).groupby(weather_df.Month).mean()\n",
    "print(avg)\n",
    "\n",
    "medi = (weather_df[['Month','Precipitation_In']]).groupby(weather_df.Month).median()\n",
    "print(medi)"
   ]
  },
  {
   "cell_type": "code",
   "execution_count": 12,
   "metadata": {},
   "outputs": [
    {
     "output_type": "execute_result",
     "data": {
      "text/plain": "  station_id                            name        lat        long  \\\n0      BT-01              3rd Ave & Broad St  47.618418 -122.350964   \n1      BT-03               2nd Ave & Vine St  47.615829 -122.348564   \n2      BT-04          6th Ave & Blanchard St  47.616094 -122.341102   \n3      BT-05          2nd Ave & Blanchard St  47.613110 -122.344208   \n4     CBD-03              7th Ave & Union St  47.610731 -122.332447   \n5     CBD-04              Union St & 4th Ave  47.609221 -122.335596   \n6     CBD-05             1st Ave & Marion St  47.604058 -122.335800   \n7     CBD-06             2nd Ave & Spring St  47.605950 -122.335768   \n8     CBD-07  City Hall / 4th Ave & James St  47.603509 -122.330409   \n9     CBD-13               2nd Ave & Pine St  47.610185 -122.339641   \n\n  install_date  install_dockcount modification_date  current_dockcount  \\\n0   10/13/2014                 18               NaN                 18   \n1   10/13/2014                 16               NaN                 16   \n2   10/13/2014                 16               NaN                 16   \n3   10/13/2014                 14               NaN                 14   \n4   10/13/2014                 20               NaN                 20   \n5    7/27/2015                 18               NaN                 18   \n6   10/13/2014                 20               NaN                 20   \n7   10/13/2014                 20         11/9/2015                 18   \n8   10/13/2014                 20               NaN                 20   \n9   10/13/2014                 18               NaN                 18   \n\n  decommission_date  \n0               NaN  \n1               NaN  \n2               NaN  \n3               NaN  \n4               NaN  \n5               NaN  \n6               NaN  \n7               NaN  \n8               NaN  \n9               NaN  ",
      "text/html": "<div>\n<style scoped>\n    .dataframe tbody tr th:only-of-type {\n        vertical-align: middle;\n    }\n\n    .dataframe tbody tr th {\n        vertical-align: top;\n    }\n\n    .dataframe thead th {\n        text-align: right;\n    }\n</style>\n<table border=\"1\" class=\"dataframe\">\n  <thead>\n    <tr style=\"text-align: right;\">\n      <th></th>\n      <th>station_id</th>\n      <th>name</th>\n      <th>lat</th>\n      <th>long</th>\n      <th>install_date</th>\n      <th>install_dockcount</th>\n      <th>modification_date</th>\n      <th>current_dockcount</th>\n      <th>decommission_date</th>\n    </tr>\n  </thead>\n  <tbody>\n    <tr>\n      <th>0</th>\n      <td>BT-01</td>\n      <td>3rd Ave &amp; Broad St</td>\n      <td>47.618418</td>\n      <td>-122.350964</td>\n      <td>10/13/2014</td>\n      <td>18</td>\n      <td>NaN</td>\n      <td>18</td>\n      <td>NaN</td>\n    </tr>\n    <tr>\n      <th>1</th>\n      <td>BT-03</td>\n      <td>2nd Ave &amp; Vine St</td>\n      <td>47.615829</td>\n      <td>-122.348564</td>\n      <td>10/13/2014</td>\n      <td>16</td>\n      <td>NaN</td>\n      <td>16</td>\n      <td>NaN</td>\n    </tr>\n    <tr>\n      <th>2</th>\n      <td>BT-04</td>\n      <td>6th Ave &amp; Blanchard St</td>\n      <td>47.616094</td>\n      <td>-122.341102</td>\n      <td>10/13/2014</td>\n      <td>16</td>\n      <td>NaN</td>\n      <td>16</td>\n      <td>NaN</td>\n    </tr>\n    <tr>\n      <th>3</th>\n      <td>BT-05</td>\n      <td>2nd Ave &amp; Blanchard St</td>\n      <td>47.613110</td>\n      <td>-122.344208</td>\n      <td>10/13/2014</td>\n      <td>14</td>\n      <td>NaN</td>\n      <td>14</td>\n      <td>NaN</td>\n    </tr>\n    <tr>\n      <th>4</th>\n      <td>CBD-03</td>\n      <td>7th Ave &amp; Union St</td>\n      <td>47.610731</td>\n      <td>-122.332447</td>\n      <td>10/13/2014</td>\n      <td>20</td>\n      <td>NaN</td>\n      <td>20</td>\n      <td>NaN</td>\n    </tr>\n    <tr>\n      <th>5</th>\n      <td>CBD-04</td>\n      <td>Union St &amp; 4th Ave</td>\n      <td>47.609221</td>\n      <td>-122.335596</td>\n      <td>7/27/2015</td>\n      <td>18</td>\n      <td>NaN</td>\n      <td>18</td>\n      <td>NaN</td>\n    </tr>\n    <tr>\n      <th>6</th>\n      <td>CBD-05</td>\n      <td>1st Ave &amp; Marion St</td>\n      <td>47.604058</td>\n      <td>-122.335800</td>\n      <td>10/13/2014</td>\n      <td>20</td>\n      <td>NaN</td>\n      <td>20</td>\n      <td>NaN</td>\n    </tr>\n    <tr>\n      <th>7</th>\n      <td>CBD-06</td>\n      <td>2nd Ave &amp; Spring St</td>\n      <td>47.605950</td>\n      <td>-122.335768</td>\n      <td>10/13/2014</td>\n      <td>20</td>\n      <td>11/9/2015</td>\n      <td>18</td>\n      <td>NaN</td>\n    </tr>\n    <tr>\n      <th>8</th>\n      <td>CBD-07</td>\n      <td>City Hall / 4th Ave &amp; James St</td>\n      <td>47.603509</td>\n      <td>-122.330409</td>\n      <td>10/13/2014</td>\n      <td>20</td>\n      <td>NaN</td>\n      <td>20</td>\n      <td>NaN</td>\n    </tr>\n    <tr>\n      <th>9</th>\n      <td>CBD-13</td>\n      <td>2nd Ave &amp; Pine St</td>\n      <td>47.610185</td>\n      <td>-122.339641</td>\n      <td>10/13/2014</td>\n      <td>18</td>\n      <td>NaN</td>\n      <td>18</td>\n      <td>NaN</td>\n    </tr>\n  </tbody>\n</table>\n</div>"
     },
     "metadata": {},
     "execution_count": 12
    }
   ],
   "source": [
    "station_df = pd.read_csv('datasets_336_799969_station.csv')\n",
    "station_df.head(10)"
   ]
  },
  {
   "cell_type": "markdown",
   "metadata": {},
   "source": [
    "### the average number of bikes at a given bike station"
   ]
  },
  {
   "cell_type": "code",
   "execution_count": 33,
   "metadata": {},
   "outputs": [
    {
     "output_type": "execute_result",
     "data": {
      "text/plain": "17.586206896551722"
     },
     "metadata": {},
     "execution_count": 33
    }
   ],
   "source": [
    "station_df['install_dockcount'].mean()"
   ]
  },
  {
   "cell_type": "markdown",
   "metadata": {},
   "source": [
    "### When a bike station is modified, is it more likely that it’ll lose bikes or gain bikes? How do you know?"
   ]
  },
  {
   "cell_type": "code",
   "execution_count": 14,
   "metadata": {},
   "outputs": [
    {
     "output_type": "execute_result",
     "data": {
      "text/plain": "-64"
     },
     "metadata": {},
     "execution_count": 14
    }
   ],
   "source": [
    "mod_stations = station_df[['modification_date','current_dockcount','install_dockcount']].dropna()\n",
    "mod_stations\n",
    "a= mod_stations['current_dockcount'].sum()\n",
    "b = mod_stations['install_dockcount'].sum()\n",
    "ans = a-b\n",
    "ans"
   ]
  },
  {
   "cell_type": "code",
   "execution_count": 15,
   "metadata": {},
   "outputs": [
    {
     "output_type": "execute_result",
     "data": {
      "text/plain": "array([18, 16, 14, 20,  0, 26, 24])"
     },
     "metadata": {},
     "execution_count": 15
    }
   ],
   "source": [
    "unique_nums = station_df['current_dockcount'].unique()\n",
    "unique_nums"
   ]
  },
  {
   "cell_type": "code",
   "execution_count": 16,
   "metadata": {},
   "outputs": [
    {
     "output_type": "execute_result",
     "data": {
      "text/plain": "26"
     },
     "metadata": {},
     "execution_count": 16
    }
   ],
   "source": [
    "max_num = station_df['current_dockcount'].max()\n",
    "max_num"
   ]
  },
  {
   "cell_type": "code",
   "execution_count": 17,
   "metadata": {},
   "outputs": [
    {
     "output_type": "execute_result",
     "data": {
      "text/plain": "12"
     },
     "metadata": {},
     "execution_count": 17
    }
   ],
   "source": [
    "min_num = station_df['install_dockcount'].min()\n",
    "min_num"
   ]
  },
  {
   "cell_type": "code",
   "execution_count": null,
   "metadata": {},
   "outputs": [],
   "source": [
    "def test():\n",
    "\n",
    "    def assert_equal(actual,expected):\n",
    "        assert actual == expected, f\"Expected {expected} but got {actual}\"\n",
    "\n",
    "    assert_equal(most_common_publisher, None)\n",
    "    assert_equal(most_common_platform, None)\n",
    "    assert_equal(most_common_genre, None)\n",
    "    assert_equal(top_twenty_highest_grossing_games.iloc[0].Name, None)\n",
    "    assert_equal(top_twenty_highest_grossing_games.iloc[19].Name, None)\n",
    "    assert_equal(na_median_sales, None)\n",
    "    assert_equal(ten_median_na_seller_names, None)\n",
    "\n",
    "    print(\"Success!!!\")\n",
    "\n",
    "test()"
   ]
  }
 ]
}